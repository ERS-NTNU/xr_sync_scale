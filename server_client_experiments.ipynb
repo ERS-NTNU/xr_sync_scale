{
 "cells": [
  {
   "cell_type": "code",
   "execution_count": 1,
   "id": "6c7fc346",
   "metadata": {},
   "outputs": [
    {
     "name": "stdout",
     "output_type": "stream",
     "text": [
      "Defaulting to user installation because normal site-packages is not writeable\n",
      "Requirement already satisfied: Flask in c:\\programdata\\anaconda3\\lib\\site-packages (2.2.2)\n",
      "Requirement already satisfied: requests in c:\\programdata\\anaconda3\\lib\\site-packages (2.31.0)\n",
      "Requirement already satisfied: Werkzeug>=2.2.2 in c:\\programdata\\anaconda3\\lib\\site-packages (from Flask) (2.2.3)\n",
      "Requirement already satisfied: Jinja2>=3.0 in c:\\programdata\\anaconda3\\lib\\site-packages (from Flask) (3.1.2)\n",
      "Requirement already satisfied: itsdangerous>=2.0 in c:\\programdata\\anaconda3\\lib\\site-packages (from Flask) (2.0.1)\n",
      "Requirement already satisfied: click>=8.0 in c:\\programdata\\anaconda3\\lib\\site-packages (from Flask) (8.0.4)\n",
      "Requirement already satisfied: charset-normalizer<4,>=2 in c:\\programdata\\anaconda3\\lib\\site-packages (from requests) (2.0.4)\n",
      "Requirement already satisfied: idna<4,>=2.5 in c:\\programdata\\anaconda3\\lib\\site-packages (from requests) (3.4)\n",
      "Requirement already satisfied: urllib3<3,>=1.21.1 in c:\\programdata\\anaconda3\\lib\\site-packages (from requests) (1.26.16)\n",
      "Requirement already satisfied: certifi>=2017.4.17 in c:\\programdata\\anaconda3\\lib\\site-packages (from requests) (2023.7.22)\n",
      "Requirement already satisfied: colorama in c:\\programdata\\anaconda3\\lib\\site-packages (from click>=8.0->Flask) (0.4.6)\n",
      "Requirement already satisfied: MarkupSafe>=2.0 in c:\\programdata\\anaconda3\\lib\\site-packages (from Jinja2>=3.0->Flask) (2.1.1)\n"
     ]
    }
   ],
   "source": [
    "!pip install Flask requests"
   ]
  },
  {
   "cell_type": "code",
   "execution_count": 2,
   "id": "1db4b274",
   "metadata": {
    "scrolled": false
   },
   "outputs": [],
   "source": [
    "# from flask import Flask, jsonify, request\n",
    "# import threading\n",
    "\n",
    "# app = Flask(__name__)\n",
    "\n",
    "# @app.route('/hello', methods=['GET'])\n",
    "# def hello_world():\n",
    "#     return jsonify(message=\"you called?\")\n",
    "\n",
    "# @app.route('/echo', methods=['POST'])\n",
    "# def echo():\n",
    "#     data = request.json\n",
    "#     return jsonify(data)\n",
    "\n",
    "# def run_server():\n",
    "#     app.run(port=5000, debug=False)\n",
    "\n",
    "# # Run the server in a thread to avoid blocking the notebook\n",
    "# thread = threading.Thread(target=run_server)\n",
    "# thread.start()"
   ]
  },
  {
   "cell_type": "code",
   "execution_count": 4,
   "id": "4875dcbc",
   "metadata": {},
   "outputs": [
    {
     "name": "stderr",
     "output_type": "stream",
     "text": [
      "127.0.0.1 - - [24/Jul/2024 02:33:48] \"GET /hello HTTP/1.1\" 200 -\n",
      "127.0.0.1 - - [24/Jul/2024 02:33:48] \"POST /echo HTTP/1.1\" 200 -\n"
     ]
    },
    {
     "name": "stdout",
     "output_type": "stream",
     "text": [
      "{'message': 'you called?'}\n",
      "{'message': 'you are the server!'}\n"
     ]
    }
   ],
   "source": [
    "# import requests\n",
    "\n",
    "# # Sending a GET request to the /hello endpoint\n",
    "# response = requests.get('http://127.0.0.1:5000/hello')\n",
    "# print(response.json())\n",
    "\n",
    "# # Sending a POST request to the /echo endpoint\n",
    "# data = {'message': 'you are the server!'}\n",
    "# response = requests.post('http://127.0.0.1:5000/echo', json=data)\n",
    "# print(response.json())\n"
   ]
  },
  {
   "cell_type": "code",
   "execution_count": 1,
   "id": "0b55a147",
   "metadata": {},
   "outputs": [
    {
     "name": "stdout",
     "output_type": "stream",
     "text": [
      " * Serving Flask app '__main__'\n",
      " * Debug mode: off\n"
     ]
    },
    {
     "name": "stderr",
     "output_type": "stream",
     "text": [
      "WARNING: This is a development server. Do not use it in a production deployment. Use a production WSGI server instead.\n",
      " * Running on http://127.0.0.1:5000\n",
      "Press CTRL+C to quit\n"
     ]
    }
   ],
   "source": [
    "from flask import Flask, send_file, request\n",
    "import requests as req\n",
    "import threading\n",
    "import os\n",
    "\n",
    "app = Flask(__name__)\n",
    "\n",
    "VIDEO_URL = 'http://commondatastorage.googleapis.com/gtv-videos-bucket/sample/BigBuckBunny.mp4'\n",
    "VIDEO_PATH = 'downloaded_video.mp4'\n",
    "\n",
    "@app.route('/get_video', methods=['GET'])\n",
    "def get_video():\n",
    "    # Download the video\n",
    "    video_data = req.get(VIDEO_URL)\n",
    "    \n",
    "    # Save the video to a file\n",
    "    with open(VIDEO_PATH, 'wb') as f:\n",
    "        f.write(video_data.content)\n",
    "    \n",
    "    # Return the video file\n",
    "    return send_file(VIDEO_PATH, mimetype='video/mp4')\n",
    "\n",
    "def run_server():\n",
    "    app.run(port=5000, debug=False)\n",
    "\n",
    "# Run the server in a thread to avoid blocking the notebook\n",
    "server_thread = threading.Thread(target=run_server)\n",
    "server_thread.start()\n"
   ]
  },
  {
   "cell_type": "code",
   "execution_count": 2,
   "id": "a1ebf56a",
   "metadata": {},
   "outputs": [
    {
     "name": "stderr",
     "output_type": "stream",
     "text": [
      "127.0.0.1 - - [24/Jul/2024 09:36:34] \"GET /get_video HTTP/1.1\" 200 -\n"
     ]
    }
   ],
   "source": [
    "import requests\n",
    "import cv2\n",
    "import numpy as np\n",
    "import time\n",
    "\n",
    "# Wait a bit for the server to start\n",
    "time.sleep(2)\n",
    "\n",
    "# Request the video from the server\n",
    "response = requests.get('http://127.0.0.1:5000/get_video')\n",
    "\n",
    "# Save the video to a file\n",
    "with open('client_video.mp4', 'wb') as f:\n",
    "    f.write(response.content)\n",
    "\n",
    "# Display the video using OpenCV\n",
    "cap = cv2.VideoCapture('client_video.mp4')\n",
    "\n",
    "if not cap.isOpened():\n",
    "    print(\"Error: Could not open video.\")\n",
    "else:\n",
    "    while cap.isOpened():\n",
    "        ret, frame = cap.read()\n",
    "        if not ret:\n",
    "            break\n",
    "        cv2.imshow('Video', frame)\n",
    "        if cv2.waitKey(25) & 0xFF == ord('q'):\n",
    "            break\n",
    "\n",
    "cap.release()\n",
    "cv2.destroyAllWindows()\n"
   ]
  },
  {
   "cell_type": "code",
   "execution_count": null,
   "id": "c95b4a41",
   "metadata": {},
   "outputs": [],
   "source": []
  }
 ],
 "metadata": {
  "kernelspec": {
   "display_name": "Python 3 (ipykernel)",
   "language": "python",
   "name": "python3"
  },
  "language_info": {
   "codemirror_mode": {
    "name": "ipython",
    "version": 3
   },
   "file_extension": ".py",
   "mimetype": "text/x-python",
   "name": "python",
   "nbconvert_exporter": "python",
   "pygments_lexer": "ipython3",
   "version": "3.11.5"
  }
 },
 "nbformat": 4,
 "nbformat_minor": 5
}
